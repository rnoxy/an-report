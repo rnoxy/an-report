{
 "cells": [
  {
   "cell_type": "markdown",
   "id": "509bc068",
   "metadata": {},
   "source": [
    "# Pracownia z analizy numerycznej\n",
    "## Imię i Nazwisko\n",
    "Data"
   ]
  },
  {
   "cell_type": "markdown",
   "id": "63847148",
   "metadata": {},
   "source": [
    "# Import pakietów"
   ]
  },
  {
   "cell_type": "code",
   "execution_count": null,
   "id": "0358626b",
   "metadata": {
    "ExecuteTime": {
     "end_time": "2021-10-08T23:28:41.397000+02:00",
     "start_time": "2021-10-08T21:28:41.395Z"
    }
   },
   "outputs": [],
   "source": [
    "# Wczytywanie zaimplementowanych algorytmów z pliku program.jl\n",
    "include(\"program.jl\")"
   ]
  },
  {
   "cell_type": "markdown",
   "id": "40f70f1b",
   "metadata": {},
   "source": [
    "## Prezentacja działania zaimplementowanych metod"
   ]
  },
  {
   "cell_type": "code",
   "execution_count": null,
   "id": "dc752a38",
   "metadata": {},
   "outputs": [],
   "source": []
  }
 ],
 "metadata": {
  "@webio": {
   "lastCommId": null,
   "lastKernelId": null
  },
  "hide_input": false,
  "kernelspec": {
   "display_name": "Julia 1.6.3",
   "language": "julia",
   "name": "julia-1.6"
  },
  "language_info": {
   "file_extension": ".jl",
   "mimetype": "application/julia",
   "name": "julia",
   "version": "1.6.3"
  },
  "toc": {
   "base_numbering": 1,
   "nav_menu": {},
   "number_sections": true,
   "sideBar": true,
   "skip_h1_title": false,
   "title_cell": "Table of Contents",
   "title_sidebar": "Contents",
   "toc_cell": false,
   "toc_position": {},
   "toc_section_display": true,
   "toc_window_display": false
  },
  "varInspector": {
   "cols": {
    "lenName": 16,
    "lenType": 16,
    "lenVar": 40
   },
   "kernels_config": {
    "python": {
     "delete_cmd_postfix": "",
     "delete_cmd_prefix": "del ",
     "library": "var_list.py",
     "varRefreshCmd": "print(var_dic_list())"
    },
    "r": {
     "delete_cmd_postfix": ") ",
     "delete_cmd_prefix": "rm(",
     "library": "var_list.r",
     "varRefreshCmd": "cat(var_dic_list()) "
    }
   },
   "types_to_exclude": [
    "module",
    "function",
    "builtin_function_or_method",
    "instance",
    "_Feature"
   ],
   "window_display": false
  }
 },
 "nbformat": 4,
 "nbformat_minor": 5
}
